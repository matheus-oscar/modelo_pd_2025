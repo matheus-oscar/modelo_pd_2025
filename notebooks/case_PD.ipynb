{
 "cells": [
  {
   "cell_type": "markdown",
   "id": "418411d8",
   "metadata": {},
   "source": [
    "#### 00. IMPORT DE PACOTES E FUNÇÕES ÚTEIS\n",
    "\n",
    "- Módulos criados para o projeto também são carregados"
   ]
  },
  {
   "cell_type": "code",
   "execution_count": null,
   "id": "43a60256",
   "metadata": {},
   "outputs": [],
   "source": [
    "import sys, os\n",
    "sys.path.append(os.path.abspath(\"..\"))\n",
    "\n",
    "import pandas as pd\n",
    "import numpy as np\n",
    "\n",
    "import matplotlib.pyplot as plt\n",
    "import seaborn as sns\n",
    "\n",
    "from sklearn import tree\n",
    "from sklearn import model_selection\n",
    "from sklearn import ensemble\n",
    "from sklearn.pipeline import Pipeline\n",
    "from sklearn import metrics\n",
    "from sklearn.linear_model import LogisticRegression\n",
    "\n",
    "from feature_engine.encoding import OneHotEncoder\n",
    "from feature_engine import discretisation\n",
    "\n",
    "from lightgbm import LGBMClassifier\n",
    "\n",
    "pd.set_option('display.max_columns',200)\n",
    "pd.set_option('display.max_rows',200)\n",
    "\n",
    "from pipeline.preprocess import *\n",
    "from pipeline.utils import *\n",
    "from pipeline.carregar_dados import *\n",
    "from pipeline.criar_abt import *\n",
    "\n",
    "from features.features_clientes import *\n",
    "from features.features_quantidade import *\n",
    "from features.features_valor import *\n",
    "from features.features_tempo import *\n",
    "from features.features_flags import *"
   ]
  },
  {
   "cell_type": "markdown",
   "id": "988f93cf",
   "metadata": {},
   "source": [
    "#### 01. CARREGAR DADOS ORIGINAIS COM PRÉ-PROCESSAMENTO MÍNIMO"
   ]
  },
  {
   "cell_type": "code",
   "execution_count": null,
   "id": "841b44fd",
   "metadata": {},
   "outputs": [],
   "source": [
    "dados = carregar_dados()\n",
    "\n",
    "df_clientes = dados['clientes']\n",
    "df_inadimplencia = dados['inadimplencia']\n",
    "df_transacoes = dados['transacoes']\n",
    "\n",
    "clientes_prep = preprocessar_clientes(df_clientes)\n",
    "inad_prep = preprocessar_inadimplencia(df_inadimplencia)\n",
    "tran_prep = preprocessar_transacoes(df_transacoes)\n",
    "\n",
    "inad_prep = inad_prep.dropna(subset=[\"atraso_90d\"]).copy()\n",
    "\n",
    "print(\"Clientes:\", clientes_prep.shape)\n",
    "print(\"Inadimplência:\", inad_prep.shape)\n",
    "print(\"Transações:\", tran_prep.shape)"
   ]
  },
  {
   "cell_type": "markdown",
   "id": "02e7bdff",
   "metadata": {},
   "source": [
    "#### 02. GERAÇÃO DA ABT \n",
    "\n",
    "- Merge com as bases de features criadas.\n",
    "\n",
    "- Cada unidade experimental corresponderá ao par *id_cliente* + *data_referencia*, e as variáveis corresponderão a essa referência.\n",
    "\n",
    "- A base que será utilizada durante todo o desenvolvimento teve os cálculos de suas features baseados numa janela de observação M-1, garantindo assim que não utilize dados do mesmo mês a que a coluna *mes_safra* da base de inadimplência se refere.\n",
    "\n",
    "- Como será observado adiante, a taxa de inadimplência tem valor de 10%, o que pode gerar alguns problemas durante a modelagem devido ao desbalanceamento."
   ]
  },
  {
   "cell_type": "code",
   "execution_count": null,
   "id": "144de2b3",
   "metadata": {},
   "outputs": [],
   "source": [
    "abt = gerar_abt(clientes_prep, \n",
    "                inad_prep, \n",
    "                tran_prep, \n",
    "                usar_M_1=True)\n",
    "\n",
    "print(\"Shape M-1:\", abt.shape)"
   ]
  },
  {
   "cell_type": "code",
   "execution_count": null,
   "id": "7c61e59e",
   "metadata": {},
   "outputs": [],
   "source": [
    "abt_M = gerar_abt(clientes_prep,\n",
    "                  inad_prep,\n",
    "                  tran_prep,\n",
    "                  usar_M_1=False)\n",
    "\n",
    "print(\"Shape M:\", abt_M.shape)"
   ]
  },
  {
   "cell_type": "code",
   "execution_count": null,
   "id": "7ba51f40",
   "metadata": {},
   "outputs": [],
   "source": [
    "abt.head(10)"
   ]
  },
  {
   "cell_type": "code",
   "execution_count": null,
   "id": "0dcffd62",
   "metadata": {},
   "outputs": [],
   "source": [
    "abt_M.head(10)"
   ]
  },
  {
   "cell_type": "markdown",
   "id": "9bd55bed",
   "metadata": {},
   "source": [
    "##### COMPARAÇÃO ENTRE CONCEITOS M-1 E M COM A JANELA DESLOCADA EM 1 MÊS. \n",
    "\n",
    "- NO EXEMPLO, AS VARIÁVEIS `vlr_trans_3m` E `qtde_trans_3m`"
   ]
  },
  {
   "cell_type": "code",
   "execution_count": null,
   "id": "a6bd1b7b",
   "metadata": {},
   "outputs": [],
   "source": [
    "from IPython.display import display_html\n",
    "\n",
    "df1_html = tran_prep[tran_prep['id_cliente'] == 'C0001'].sort_values(by='data_transacao').to_html()\n",
    "\n",
    "df2_html = pd.concat([abt.loc[abt['id_cliente'] == 'C0001',['id_cliente','mes_safra','data_referencia', 'vlr_trans_3m']].head(20), \n",
    "           abt_M.loc[abt_M['id_cliente'] == 'C0001',['vlr_trans_3m']].head(20),\n",
    "           abt.loc[abt['id_cliente'] == 'C0001',['qtde_trans_3m']].head(20),\n",
    "           abt_M.loc[abt_M['id_cliente'] == 'C0001',['qtde_trans_3m']].head(20)],\n",
    "           axis=1).to_html()\n",
    "\n",
    "display_html(df1_html + df2_html, raw=True)\n"
   ]
  },
  {
   "cell_type": "markdown",
   "id": "78440677",
   "metadata": {},
   "source": [
    "#### CONCENTRAÇÃO DE VALORES NULOS POR VARIÁVEL"
   ]
  },
  {
   "cell_type": "code",
   "execution_count": null,
   "id": "903daec0",
   "metadata": {},
   "outputs": [],
   "source": [
    "pd.DataFrame(abt.isna().mean().sort_values(ascending=False)).head(20)   "
   ]
  },
  {
   "cell_type": "markdown",
   "id": "9a08d101",
   "metadata": {},
   "source": [
    "#### QUAL A INADIMPLÊNCIA TOTAL DA BASE DE DADOS? E AO LONGO DAS SAFRAS?"
   ]
  },
  {
   "cell_type": "code",
   "execution_count": null,
   "id": "798250c0",
   "metadata": {},
   "outputs": [],
   "source": [
    "plot_categ(abt, 'atraso_90d', titulo='Distribuição do target', xlabel='Default',ylabel='Volumetria')"
   ]
  },
  {
   "cell_type": "code",
   "execution_count": null,
   "id": "fff81169",
   "metadata": {},
   "outputs": [],
   "source": [
    "plot_txmau_categ(abt, column='mes_safra', column_mau='atraso_90d')"
   ]
  },
  {
   "cell_type": "markdown",
   "id": "ab030220",
   "metadata": {},
   "source": [
    "#### QUAL A INADIMPLÊNCIA POR CLIENTE?"
   ]
  },
  {
   "cell_type": "code",
   "execution_count": null,
   "id": "8dfbea26",
   "metadata": {},
   "outputs": [],
   "source": [
    "mau = 1\n",
    "df2 =abt[['id_cliente', 'atraso_90d']].copy()\n",
    "df2['mau'] = [1 if x == mau else 0 for x in df2['atraso_90d']]\n",
    "aux = df2.groupby('id_cliente')[\"mau\"].agg([\"mean\", 'count']\n",
    "                                          )\n",
    "aux = aux.rename(columns={'mean' : 'tx_mau', 'count' : 'N'}).sort_values('tx_mau', ascending=False)\n",
    "aux.head(20)"
   ]
  },
  {
   "cell_type": "markdown",
   "id": "6f0619ad",
   "metadata": {},
   "source": [
    "#### QUAL A INADIMPLÊNCIA OBSERVADA EM RELAÇÃO ÀS VARIÁVEIS?\n",
    "\n",
    "- OBS: PARA VARIÁVEIS NUMÉRICAS - CATEGORIZAÇÃO POR QUANTIS"
   ]
  },
  {
   "cell_type": "code",
   "execution_count": null,
   "id": "8402e87e",
   "metadata": {},
   "outputs": [],
   "source": [
    "plot_txmau_categ(abt, column='estado_civil', column_mau='atraso_90d')"
   ]
  },
  {
   "cell_type": "markdown",
   "id": "14a3704e",
   "metadata": {},
   "source": [
    "#### O SCORE INTERNO PRESENTE NA BASE DE CLIENTES ORDENA A INADIMPLÊNCIA?\n"
   ]
  },
  {
   "cell_type": "code",
   "execution_count": null,
   "id": "a19eb77e",
   "metadata": {},
   "outputs": [],
   "source": [
    "plot_inad_var(abt, \"score_interno\", target=\"atraso_90d\", bins=10)"
   ]
  },
  {
   "cell_type": "code",
   "execution_count": null,
   "id": "56800abf",
   "metadata": {},
   "outputs": [],
   "source": [
    "plot_inad_var(abt, \"idade\", target=\"atraso_90d\", bins=10)"
   ]
  },
  {
   "cell_type": "code",
   "execution_count": null,
   "id": "9c4a6082",
   "metadata": {},
   "outputs": [],
   "source": [
    "plot_inad_var(abt, \"renda_mensal\", target=\"atraso_90d\", bins=10)"
   ]
  },
  {
   "cell_type": "code",
   "execution_count": null,
   "id": "7e296ef6",
   "metadata": {},
   "outputs": [],
   "source": [
    "plot_inad_var(abt, \"qtde_produtos\", target=\"atraso_90d\", bins=10)"
   ]
  },
  {
   "cell_type": "code",
   "execution_count": null,
   "id": "68c8a019",
   "metadata": {},
   "outputs": [],
   "source": [
    "plot_inad_var(abt, \"tempo_relacionamento_meses\", target=\"atraso_90d\", bins=5)"
   ]
  },
  {
   "cell_type": "code",
   "execution_count": null,
   "id": "6b0144ac",
   "metadata": {},
   "outputs": [],
   "source": [
    "corr = abt.drop(columns=['id_cliente', 'data_referencia', 'data_abertura_conta', 'mes_abertura_conta','mes_safra', 'estado_civil']).corr(method = 'pearson')\n"
   ]
  },
  {
   "cell_type": "code",
   "execution_count": null,
   "id": "8368605e",
   "metadata": {},
   "outputs": [],
   "source": [
    "plt.figure(figsize=(10,8), dpi =500)\n",
    "sns.heatmap(corr,annot=False,fmt=\".2f\", linewidth=.5)\n",
    "plt.show()"
   ]
  },
  {
   "cell_type": "code",
   "execution_count": null,
   "id": "34a9e8d0",
   "metadata": {},
   "outputs": [],
   "source": [
    "cols_drop = ['id_cliente', 'data_referencia', 'data_abertura_conta', 'mes_abertura_conta','mes_safra']\n",
    "\n",
    "resultado_conc = analisar_concentracao(\n",
    "    abt=abt,\n",
    "    max_vol=0.95,\n",
    "    target=\"atraso_90d\",\n",
    "    cols_drop=cols_drop\n",
    ")\n",
    "\n",
    "print(\"Variáveis COM concentração:\", resultado_conc[\"com_concentracao\"])\n",
    "print(\"Variáveis SEM concentração:\", resultado_conc[\"sem_concentracao\"])\n",
    "print(resultado_conc[\"detalhes\"].head())\n"
   ]
  },
  {
   "cell_type": "code",
   "execution_count": null,
   "id": "531b3b94",
   "metadata": {},
   "outputs": [],
   "source": [
    "resultado_conc[\"detalhes\"]"
   ]
  },
  {
   "cell_type": "code",
   "execution_count": null,
   "id": "042a2c69",
   "metadata": {},
   "outputs": [],
   "source": [
    "var_s_conc = resultado_conc[\"sem_concentracao\"]"
   ]
  },
  {
   "cell_type": "code",
   "execution_count": null,
   "id": "61440cce",
   "metadata": {},
   "outputs": [],
   "source": [
    "remover = remover_vars(\n",
    "    abt[var_s_conc + [\"atraso_90d\"]], \n",
    "    target=\"atraso_90d\", \n",
    "    iv_threshold=0.01, \n",
    "    corr_threshold=0.8\n",
    ")\n"
   ]
  },
  {
   "cell_type": "code",
   "execution_count": null,
   "id": "ee3190bb",
   "metadata": {},
   "outputs": [],
   "source": [
    "remover['final']"
   ]
  },
  {
   "cell_type": "code",
   "execution_count": null,
   "id": "460264c6",
   "metadata": {},
   "outputs": [],
   "source": [
    "len(remover['removidas_corr'])"
   ]
  },
  {
   "cell_type": "code",
   "execution_count": null,
   "id": "b59b536a",
   "metadata": {},
   "outputs": [],
   "source": [
    "len(remover['final'])"
   ]
  },
  {
   "cell_type": "code",
   "execution_count": null,
   "id": "063ede34",
   "metadata": {},
   "outputs": [],
   "source": [
    "col_retirar = cols_drop + ['atraso_90d']\n",
    "X_TODAS = abt.drop(columns=col_retirar)\n",
    "\n",
    "X_train_TODAS, X_test_TODAS = model_selection.train_test_split(X_TODAS,\n",
    "                                                 test_size=0.2,\n",
    "                                                 random_state=42\n",
    ")"
   ]
  },
  {
   "cell_type": "code",
   "execution_count": null,
   "id": "3be9d68a",
   "metadata": {},
   "outputs": [],
   "source": [
    "X = abt[remover['final']]\n",
    "y = abt['atraso_90d']"
   ]
  },
  {
   "cell_type": "code",
   "execution_count": null,
   "id": "6e630420",
   "metadata": {},
   "outputs": [],
   "source": [
    "(X.shape, len(y))"
   ]
  },
  {
   "cell_type": "code",
   "execution_count": null,
   "id": "d19ba97b",
   "metadata": {},
   "outputs": [],
   "source": [
    "corr = X.corr(method = 'pearson')\n",
    "\n",
    "plt.figure(figsize=(10,8), dpi =500)\n",
    "sns.heatmap(corr,annot=False,fmt=\".2f\", linewidth=.5)\n",
    "plt.show()\n"
   ]
  },
  {
   "cell_type": "code",
   "execution_count": null,
   "id": "52690141",
   "metadata": {},
   "outputs": [],
   "source": [
    "X_train, X_test, y_train, y_test = model_selection.train_test_split(X,\n",
    "                                                                    y,\n",
    "                                                                    test_size=0.2,\n",
    "                                                                    random_state=42)"
   ]
  },
  {
   "cell_type": "markdown",
   "id": "c3b2d709",
   "metadata": {},
   "source": [
    "### 1. DECISION TREE CLASSIFIER"
   ]
  },
  {
   "cell_type": "markdown",
   "id": "4e741917",
   "metadata": {},
   "source": [
    "#### TREINO COM COLUNAS PRÉ-SELECIONADAS A PARTIR DA FUNÇÃO REMOVER_VARS()"
   ]
  },
  {
   "cell_type": "code",
   "execution_count": null,
   "id": "a8e7e754",
   "metadata": {},
   "outputs": [],
   "source": [
    "arvore = tree.DecisionTreeClassifier(random_state=42,\n",
    "                                     max_depth=5,\n",
    "                                     min_samples_split=10,\n",
    "                                     class_weight='balanced'\n",
    "                                     )\n",
    "\n",
    "arvore.fit(X_train,y_train)"
   ]
  },
  {
   "cell_type": "code",
   "execution_count": null,
   "id": "ca834157",
   "metadata": {},
   "outputs": [],
   "source": [
    "tree.plot_tree(arvore,\n",
    "               feature_names=X_train.columns,\n",
    "               max_depth=1,\n",
    "               filled=True,\n",
    "               class_names=[str(i) for i in arvore.classes_])"
   ]
  },
  {
   "cell_type": "code",
   "execution_count": null,
   "id": "5af6d5d8",
   "metadata": {},
   "outputs": [],
   "source": [
    "feature_importances= (pd.Series(arvore.feature_importances_,\n",
    "                                index=X_train.columns)\n",
    "                           .sort_values(ascending=False)\n",
    "                           .reset_index()\n",
    "                           )\n",
    "feature_importances\n",
    "feature_importances['acum.'] = feature_importances[0].cumsum()\n",
    "\n",
    "# %%\n",
    "best_features = feature_importances[feature_importances['acum.'] < 0.96]"
   ]
  },
  {
   "cell_type": "code",
   "execution_count": null,
   "id": "63db37b6",
   "metadata": {},
   "outputs": [],
   "source": [
    "best_features"
   ]
  },
  {
   "cell_type": "code",
   "execution_count": null,
   "id": "a7555474",
   "metadata": {},
   "outputs": [],
   "source": [
    "y_train_predict = arvore.predict(X_train[best_features])\n",
    "y_train_proba = arvore.predict_proba(X_train[best_features])[:, 1]\n",
    "\n",
    "acc_train = metrics.accuracy_score(y_train, y_train_predict)\n",
    "auc_train = metrics.roc_auc_score(y_train, y_train_proba)\n",
    "roc_train = metrics.roc_curve(y_train, y_train_proba)\n",
    "\n",
    "print(\"Acurácia treino: \", acc_train)\n",
    "print(\"AUC treino: \", auc_train)\n",
    "\n",
    "\n",
    "y_test_predict = arvore.predict(X_test[best_features])\n",
    "y_test_proba = arvore.predict_proba(X_test[best_features])[:, 1]\n",
    "\n",
    "acc_test = metrics.accuracy_score(y_test, y_test_predict)\n",
    "auc_test = metrics.roc_auc_score(y_test, y_test_proba)\n",
    "roc_test = metrics.roc_curve(y_test,y_test_proba)\n",
    "                             \n",
    "                             \n",
    "print(\"Acurácia teste: \", acc_test)\n",
    "print(\"AUC teste: \", auc_test)"
   ]
  },
  {
   "cell_type": "code",
   "execution_count": null,
   "id": "a9ee84aa",
   "metadata": {},
   "outputs": [],
   "source": [
    "get_precisions_recalls(y_test,y_test_predict)"
   ]
  },
  {
   "cell_type": "code",
   "execution_count": null,
   "id": "d0d3d37a",
   "metadata": {},
   "outputs": [],
   "source": [
    "plotar_ks(y_test,y_test_proba)"
   ]
  },
  {
   "cell_type": "markdown",
   "id": "6f04f408",
   "metadata": {},
   "source": [
    "### 2. CATBOOST\n"
   ]
  },
  {
   "cell_type": "code",
   "execution_count": null,
   "id": "b788cdc2",
   "metadata": {},
   "outputs": [],
   "source": [
    "from catboost import CatBoostClassifier, Pool\n",
    "from sklearn.model_selection import RandomizedSearchCV\n",
    "from sklearn.metrics import roc_auc_score, f1_score, precision_score, recall_score, confusion_matrix\n",
    "import numpy as np"
   ]
  },
  {
   "cell_type": "markdown",
   "id": "45c6f945",
   "metadata": {},
   "source": [
    "#### 2.1 TREINO COM TODAS AS COLUNAS QUE NÃO SEJAM ID OU DATAS"
   ]
  },
  {
   "cell_type": "code",
   "execution_count": null,
   "id": "8c765bed",
   "metadata": {},
   "outputs": [],
   "source": [
    "cat_features = [col for col in X_train_TODAS.columns if X_train_TODAS[col].dtype.name in [\"object\", \"category\"]]\n",
    "\n",
    "cat_features"
   ]
  },
  {
   "cell_type": "code",
   "execution_count": null,
   "id": "b11ad111",
   "metadata": {},
   "outputs": [],
   "source": [
    "# ===============================\n",
    "# 1. Identificar variáveis categóricas\n",
    "# ===============================\n",
    "cat_features = [col for col in X_train_TODAS.columns if X_train_TODAS[col].dtype.name in [\"object\", \"category\"]]\n",
    "\n",
    "print(\"Variáveis categóricas:\", cat_features)\n",
    "\n",
    "# ===============================\n",
    "# 2. Definir modelo base\n",
    "# ===============================\n",
    "weight_minority_class = np.sum(y_train == 0) / np.sum(y_train == 1)\n",
    "\n",
    "catboost = CatBoostClassifier(\n",
    "    loss_function=\"Logloss\",\n",
    "    eval_metric=\"AUC\",\n",
    "    random_seed=42,\n",
    "    class_weights=[1, weight_minority_class],   # penaliza mais a classe 1 (inadimplente), ajuste se precisar\n",
    "    logging_level='Info'\n",
    ")\n",
    "\n",
    "# ===============================\n",
    "# 3. Espaço de hiperparâmetros\n",
    "# ===============================\n",
    "param_dist = {\n",
    "    \"depth\": [4, 6, 8, 10],\n",
    "    \"learning_rate\": np.linspace(0.01, 0.2, 5),\n",
    "    \"l2_leaf_reg\": [1, 3, 5, 7, 9],\n",
    "    \"iterations\": [200, 400, 600, 800],\n",
    "    \"border_count\": [32, 64, 128]\n",
    "}\n",
    "\n",
    "# ===============================\n",
    "# 4. RandomizedSearchCV\n",
    "# ===============================\n",
    "random_search = RandomizedSearchCV(\n",
    "    estimator=catboost,\n",
    "    param_distributions=param_dist,\n",
    "    n_iter=20,           \n",
    "    cv=3,\n",
    "    scoring=\"roc_auc\",\n",
    "    n_jobs=-1,\n",
    "    verbose=2,\n",
    "    random_state=42\n",
    ")\n",
    "\n",
    "# CatBoost precisa de Pool para saber quais colunas são categóricas\n",
    "train_pool = Pool(X_train_TODAS, y_train, cat_features=cat_features)\n",
    "\n",
    "# Ajustar busca\n",
    "random_search.fit(X_train_TODAS, y_train, cat_features=cat_features)\n",
    "\n",
    "\n"
   ]
  },
  {
   "cell_type": "code",
   "execution_count": null,
   "id": "7bb77c2e",
   "metadata": {},
   "outputs": [],
   "source": [
    "# ===============================\n",
    "# 5. Avaliar no teste\n",
    "# ===============================\n",
    "best_model = random_search.best_estimator_\n",
    "y_proba_cat = best_model.predict_proba(X_test_TODAS)[:, 1]\n",
    "y_pred_cat = best_model.predict(X_test_TODAS)\n",
    "\n",
    "print(\"Melhores parâmetros:\", random_search.best_params_)\n",
    "print(\"AUC:\", roc_auc_score(y_test, y_proba_cat))\n",
    "print(\"F1 :\", f1_score(y_test, y_pred_cat))\n",
    "print(\"Precisão:\", precision_score(y_test, y_pred_cat))\n",
    "print(\"Recall:\", recall_score(y_test, y_pred_cat))\n",
    "print(\"Matriz de confusão:\\n\", confusion_matrix(y_test, y_pred_cat))"
   ]
  },
  {
   "cell_type": "code",
   "execution_count": null,
   "id": "34916803",
   "metadata": {},
   "outputs": [],
   "source": [
    "plotar_ks(y_test,y_proba_cat, titulo='KS CATBOOST')"
   ]
  },
  {
   "cell_type": "code",
   "execution_count": null,
   "id": "6506c673",
   "metadata": {},
   "outputs": [],
   "source": [
    "import pandas as pd\n",
    "feat_imp = pd.DataFrame({\n",
    "    \"feature\": X_train_TODAS.columns,\n",
    "    \"importance\": best_model.feature_importances_\n",
    "}).sort_values(\"importance\", ascending=False)\n",
    "print(feat_imp.head(20))\n"
   ]
  },
  {
   "cell_type": "markdown",
   "id": "51e6dac7",
   "metadata": {},
   "source": [
    "#### 2.2 TREINO COM COLUNAS PRÉ-SELECIONADAS A PARTIR DA FUNÇÃO REMOVER_VARS()"
   ]
  },
  {
   "cell_type": "code",
   "execution_count": null,
   "id": "e014f245",
   "metadata": {},
   "outputs": [],
   "source": [
    "# ===============================\n",
    "# 1. Identificar variáveis categóricas\n",
    "# ===============================\n",
    "cat_features = [col for col in X_train.columns if X_train[col].dtype.name in [\"object\", \"category\"]]\n",
    "\n",
    "print(\"Variáveis categóricas:\", cat_features)\n",
    "\n",
    "# ===============================\n",
    "# 2. Definir modelo base\n",
    "# ===============================\n",
    "weight_minority_class = np.sum(y_train == 0) / np.sum(y_train == 1)\n",
    "\n",
    "catboost = CatBoostClassifier(\n",
    "    loss_function=\"Logloss\",\n",
    "    eval_metric=\"AUC\",\n",
    "    random_seed=42,\n",
    "    class_weights=[1, weight_minority_class],   # penaliza mais a classe 1 (inadimplente), ajuste se precisar\n",
    "    logging_level=\"Silent\"\n",
    ")\n",
    "\n",
    "# ===============================\n",
    "# 3. Espaço de hiperparâmetros\n",
    "# ===============================\n",
    "param_dist = {\n",
    "    \"depth\": [4, 6, 8, 10],\n",
    "    \"learning_rate\": np.linspace(0.01, 0.2, 10),\n",
    "    \"l2_leaf_reg\": [1, 3, 5, 7, 9],\n",
    "    \"iterations\": [200, 400, 600, 800],\n",
    "    \"border_count\": [32, 64, 128]\n",
    "}\n",
    "\n",
    "# ===============================\n",
    "# 4. RandomizedSearchCV\n",
    "# ===============================\n",
    "random_search2 = RandomizedSearchCV(\n",
    "    estimator=catboost,\n",
    "    param_distributions=param_dist,\n",
    "    n_iter=20,              # nº de combinações testadas (ajuste se quiser mais)\n",
    "    cv=3,\n",
    "    scoring=\"roc_auc\",\n",
    "    n_jobs=-1,\n",
    "    verbose=2,\n",
    "    random_state=42\n",
    ")\n",
    "\n",
    "# CatBoost precisa de Pool para saber quais colunas são categóricas\n",
    "train_pool = Pool(X_train, y_train, cat_features=cat_features)\n",
    "\n",
    "# Ajustar busca\n",
    "random_search2.fit(X_train, y_train, cat_features=cat_features)\n",
    "\n",
    "\n"
   ]
  },
  {
   "cell_type": "code",
   "execution_count": null,
   "id": "87366073",
   "metadata": {},
   "outputs": [],
   "source": [
    "# ===============================\n",
    "# 5. Avaliar no teste\n",
    "# ===============================\n",
    "best_model2 = random_search2.best_estimator_\n",
    "y_proba_cat2 = best_model2.predict_proba(X_test)[:, 1]\n",
    "y_pred_cat2 = best_model2.predict(X_test)\n",
    "\n",
    "print(\"Melhores parâmetros:\", random_search.best_params_)\n",
    "print(\"AUC:\", roc_auc_score(y_test, y_proba_cat2))\n",
    "print(\"F1 :\", f1_score(y_test, y_pred_cat2))\n",
    "print(\"Precisão:\", precision_score(y_test, y_pred_cat2))\n",
    "print(\"Recall:\", recall_score(y_test, y_pred_cat2))\n",
    "print(\"Matriz de confusão:\\n\", confusion_matrix(y_test, y_pred_cat2))"
   ]
  },
  {
   "cell_type": "code",
   "execution_count": null,
   "id": "5ba67b0b",
   "metadata": {},
   "outputs": [],
   "source": [
    "plotar_ks(y_test,y_proba_cat2, titulo='KS CATBOOST 2')"
   ]
  },
  {
   "cell_type": "markdown",
   "id": "30a3c530",
   "metadata": {},
   "source": [
    "## COMO ARRUMAR?"
   ]
  },
  {
   "cell_type": "markdown",
   "id": "9473dad8",
   "metadata": {},
   "source": [
    "#### Proposta 1 - UPWEIGHT THE MINORITY CLASS"
   ]
  },
  {
   "cell_type": "code",
   "execution_count": null,
   "id": "bc67357f",
   "metadata": {},
   "outputs": [],
   "source": [
    "weight_minority_class = np.sum(y_train == 0) / np.sum(y_train == 1)\n",
    "\n",
    "weight_minority_class"
   ]
  },
  {
   "cell_type": "code",
   "execution_count": null,
   "id": "1ed35efc",
   "metadata": {},
   "outputs": [],
   "source": [
    "arvore2 = tree.DecisionTreeClassifier(class_weight={0:1, 1:weight_minority_class}, random_state=42)\n",
    "arvore2.fit(X_train, y_train)\n",
    "preds = arvore2.predict(X_test)"
   ]
  },
  {
   "cell_type": "code",
   "execution_count": null,
   "id": "b44d60ca",
   "metadata": {},
   "outputs": [],
   "source": [
    "get_precisions_recalls(y_test, preds)"
   ]
  },
  {
   "cell_type": "code",
   "execution_count": null,
   "id": "9a6741d7",
   "metadata": {},
   "outputs": [],
   "source": [
    "y_train_predict2 = arvore2.predict(X_train)\n",
    "y_train_proba2 = arvore2.predict_proba(X_train)[:, 1]\n",
    "\n",
    "acc_train2 = metrics.accuracy_score(y_train, y_train_predict2)\n",
    "auc_train2 = metrics.roc_auc_score(y_train, y_train_proba2)\n",
    "roc_train2 = metrics.roc_curve(y_train, y_train_proba2)\n",
    "\n",
    "print(\"Acurácia treino: \", acc_train2)\n",
    "print(\"AUC treino: \", auc_train2)\n",
    "\n",
    "y_test_predict2 = arvore2.predict(X_test)\n",
    "y_test_proba2 = arvore2.predict_proba(X_test)[:, 1]\n",
    "\n",
    "acc_test2 = metrics.accuracy_score(y_test, y_test_predict2)\n",
    "auc_test2 = metrics.roc_auc_score(y_test, y_test_proba2)\n",
    "roc_test2 = metrics.roc_curve(y_test,y_test_proba2)\n",
    "                             \n",
    "                             \n",
    "print(\"Acurácia teste: \", acc_test2)\n",
    "print(\"AUC teste: \", auc_test2)"
   ]
  },
  {
   "cell_type": "markdown",
   "id": "56a0bfa8",
   "metadata": {},
   "source": [
    "#### Proposta 2 - Oversample Minority Class"
   ]
  },
  {
   "cell_type": "code",
   "execution_count": null,
   "id": "30766f18",
   "metadata": {},
   "outputs": [],
   "source": [
    "#get indices of each class\n",
    "indices_0 = np.where(y_train == 0)[0]\n",
    "indices_1 = np.where(y_train == 1)[0]\n",
    "indices = np.concatenate([indices_0, indices_1])\n",
    "\n",
    "#get weights for each class\n",
    "weights = np.empty(indices_0.shape[0] + indices_1.shape[0])\n",
    "weights[:indices_0.shape[0]] = 1\n",
    "weights[indices_0.shape[0]:] = weight_minority_class\n",
    "weights = weights/np.sum(weights)\n",
    "\n",
    "#sample new indices\n",
    "sampled_indices = np.random.choice(indices, indices.shape[0], p=weights)"
   ]
  },
  {
   "cell_type": "code",
   "execution_count": null,
   "id": "0840c7a1",
   "metadata": {},
   "outputs": [],
   "source": [
    "# construir datasets oversampled\n",
    "X_train_oversampled = X_train.iloc[sampled_indices]\n",
    "labels_train_oversampled = y_train.iloc[sampled_indices]\n"
   ]
  },
  {
   "cell_type": "code",
   "execution_count": null,
   "id": "78893df5",
   "metadata": {},
   "outputs": [],
   "source": [
    "print('Fraction of positive labels in oversampled data:', str(round(100*np.mean(labels_train_oversampled),3)) + '%')"
   ]
  },
  {
   "cell_type": "code",
   "execution_count": null,
   "id": "eb27a802",
   "metadata": {},
   "outputs": [],
   "source": [
    "arvore3 = tree.DecisionTreeClassifier(random_state=42,\n",
    "                                  max_depth=5,\n",
    "                                  min_samples_split=10)\n",
    "\n",
    "arvore3.fit(X_train_oversampled, labels_train_oversampled)\n",
    "preds = arvore3.predict(X_test)"
   ]
  },
  {
   "cell_type": "code",
   "execution_count": null,
   "id": "05044aa5",
   "metadata": {},
   "outputs": [],
   "source": [
    "get_precisions_recalls(y_test, preds)"
   ]
  },
  {
   "cell_type": "code",
   "execution_count": null,
   "id": "2fe1974e",
   "metadata": {},
   "outputs": [],
   "source": [
    "y_train_predict3 = arvore3.predict(X_train_oversampled)\n",
    "y_train_proba3 = arvore3.predict_proba(X_train_oversampled)[:, 1]\n",
    "\n",
    "acc_train3 = metrics.accuracy_score(labels_train_oversampled, y_train_predict3)\n",
    "auc_train3 = metrics.roc_auc_score(labels_train_oversampled, y_train_proba3)\n",
    "roc_train3 = metrics.roc_curve(labels_train_oversampled, y_train_proba3)\n",
    "\n",
    "print(\"Acurácia treino: \", acc_train3)\n",
    "print(\"AUC treino: \", auc_train3)\n",
    "\n",
    "y_test_predict3 = arvore3.predict(X_test)\n",
    "y_test_proba3 = arvore3.predict_proba(X_test)[:, 1]\n",
    "\n",
    "acc_test3 = metrics.accuracy_score(y_test, y_test_predict3)\n",
    "auc_test3 = metrics.roc_auc_score(y_test, y_test_proba3)\n",
    "roc_test3 = metrics.roc_curve(y_test,y_test_proba3)\n",
    "                           \n",
    "print(\"Acurácia teste: \", acc_test3)\n",
    "print(\"AUC teste: \", auc_test3)\n",
    "\n"
   ]
  }
 ],
 "metadata": {
  "kernelspec": {
   "display_name": "venv",
   "language": "python",
   "name": "python3"
  },
  "language_info": {
   "codemirror_mode": {
    "name": "ipython",
    "version": 3
   },
   "file_extension": ".py",
   "mimetype": "text/x-python",
   "name": "python",
   "nbconvert_exporter": "python",
   "pygments_lexer": "ipython3",
   "version": "3.12.10"
  }
 },
 "nbformat": 4,
 "nbformat_minor": 5
}
