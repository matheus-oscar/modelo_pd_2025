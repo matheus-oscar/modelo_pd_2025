{
 "cells": [
  {
   "cell_type": "markdown",
   "id": "f43026d3",
   "metadata": {},
   "source": [
    "## CASE TÉCNICO AILOS - ANALISTA DE MODELAGEM ESTATÍSTICA III\n",
    "\n",
    "- Esse notebook procura sintetizar o processo de desenvolvimento do modelo de PD com base nos dados fornecidos. Os dicionários de variáveis e seus conceitos foram disponibilizados junto com esse material e buscam ser um guia para prototipação e melhoria contínua das ideias aqui apresentadas. Não tem como objetivo ser o documento mais adequado para ser posto em produção, mas ser o ponto focal dos esforços propostos.\n",
    "\n"
   ]
  },
  {
   "cell_type": "markdown",
   "id": "42f0767e",
   "metadata": {},
   "source": [
    "#### 00. IMPORT DE PACOTES E FUNÇÕES ÚTEIS\n",
    "\n",
    "- Módulos criados para o projeto também são carregados"
   ]
  },
  {
   "cell_type": "code",
   "execution_count": null,
   "id": "93e5510d",
   "metadata": {},
   "outputs": [],
   "source": [
    "import sys, os\n",
    "sys.path.append(os.path.abspath(\"..\"))\n",
    "\n",
    "import pandas as pd\n",
    "import numpy as np\n",
    "\n",
    "import matplotlib.pyplot as plt\n",
    "import seaborn as sns\n",
    "\n",
    "from sklearn import tree\n",
    "from sklearn import model_selection\n",
    "from sklearn import ensemble\n",
    "from sklearn.pipeline import Pipeline\n",
    "from sklearn import metrics\n",
    "from sklearn.linear_model import LogisticRegression\n",
    "\n",
    "from feature_engine.encoding import OneHotEncoder\n",
    "from feature_engine import discretisation\n",
    "\n",
    "from lightgbm import LGBMClassifier\n",
    "\n",
    "\n",
    "pd.set_option('display.max_columns',100)\n",
    "pd.set_option('display.max_rows',100)\n",
    "\n",
    "from pipeline.preprocess import *\n",
    "from pipeline.utils import *\n",
    "from pipeline.carregar_dados import *\n",
    "from pipeline.criar_abt import *\n",
    "from pipeline.utils import *\n",
    "\n",
    "from features.features_clientes import *\n",
    "from features.features_quantidade import *\n",
    "from features.features_valor import *\n",
    "from features.features_tempo import *\n",
    "from features.features_flags import *\n",
    "from features.features_clientes_transacional import *\n",
    "\n"
   ]
  },
  {
   "cell_type": "markdown",
   "id": "0ae6f0cd",
   "metadata": {},
   "source": [
    "#### 01. CARREGAR DADOS ORIGINAIS COM PRÉ-PROCESSAMENTO MÍNIMO"
   ]
  },
  {
   "cell_type": "code",
   "execution_count": 68,
   "id": "0dff8920",
   "metadata": {},
   "outputs": [
    {
     "name": "stdout",
     "output_type": "stream",
     "text": [
      "Clientes: (200, 10)\n",
      "Inadimplência: (4800, 4)\n",
      "Transações: (2000, 4)\n"
     ]
    }
   ],
   "source": [
    "dados = carregar_dados()\n",
    "\n",
    "df_clientes = dados['clientes']\n",
    "df_inadimplencia = dados['inadimplencia']\n",
    "df_transacoes = dados['transacoes']\n",
    "\n",
    "clientes_prep = preprocessar_clientes(df_clientes)\n",
    "inad_prep = preprocessar_inadimplencia(df_inadimplencia)\n",
    "tran_prep = preprocessar_transacoes(df_transacoes)\n",
    "\n",
    "# inad_prep = inad_prep.dropna(subset=[\"atraso_90d\"]).copy()\n",
    "\n",
    "print(\"Clientes:\", clientes_prep.shape)\n",
    "print(\"Inadimplência:\", inad_prep.shape)\n",
    "print(\"Transações:\", tran_prep.shape)\n"
   ]
  },
  {
   "cell_type": "code",
   "execution_count": 69,
   "id": "b096e4ba",
   "metadata": {},
   "outputs": [
    {
     "name": "stdout",
     "output_type": "stream",
     "text": [
      "<class 'pandas.core.frame.DataFrame'>\n",
      "RangeIndex: 4800 entries, 0 to 4799\n",
      "Data columns (total 4 columns):\n",
      " #   Column           Non-Null Count  Dtype         \n",
      "---  ------           --------------  -----         \n",
      " 0   id_cliente       4800 non-null   object        \n",
      " 1   mes_safra        4800 non-null   object        \n",
      " 2   data_referencia  4800 non-null   datetime64[ns]\n",
      " 3   atraso_90d       4790 non-null   float64       \n",
      "dtypes: datetime64[ns](1), float64(1), object(2)\n",
      "memory usage: 150.1+ KB\n"
     ]
    }
   ],
   "source": [
    "inad_prep.info()"
   ]
  },
  {
   "cell_type": "code",
   "execution_count": 70,
   "id": "e294b928",
   "metadata": {},
   "outputs": [
    {
     "data": {
      "text/plain": [
       "id_cliente         0.000000\n",
       "mes_safra          0.000000\n",
       "data_referencia    0.000000\n",
       "atraso_90d         0.002083\n",
       "dtype: float64"
      ]
     },
     "execution_count": 70,
     "metadata": {},
     "output_type": "execute_result"
    }
   ],
   "source": [
    "inad_prep.isna().mean()"
   ]
  },
  {
   "cell_type": "markdown",
   "id": "8066fc4b",
   "metadata": {},
   "source": [
    "**A variável resposta do modelo *atraso_90d* possui 10 casos com valores nulos na base de inadimplência (<0,5% dos registros), e por isso esses casos serão removidos.**"
   ]
  },
  {
   "cell_type": "code",
   "execution_count": 145,
   "id": "29307f88",
   "metadata": {},
   "outputs": [],
   "source": [
    "inad_prep = inad_prep.dropna(subset=[\"atraso_90d\"]).copy()"
   ]
  },
  {
   "cell_type": "markdown",
   "id": "52e33933",
   "metadata": {},
   "source": [
    "#### 02. GERAÇÃO DA ABT \n",
    "\n",
    "- Merge com as bases de features criadas.\n",
    "\n",
    "- Cada unidade experimental corresponderá ao par *id_cliente* + *data_referencia*, e as variáveis corresponderão a essa referência.\n",
    "\n",
    "- A base que será utilizada durante todo o desenvolvimento teve os cálculos de suas features baseados numa janela de observação M-1, garantindo assim que não utilize dados do mesmo mês a que a coluna *mes_safra* da base de inadimplência se refere.\n",
    "\n",
    "- Como será observado adiante, a taxa de inadimplência tem valor de 10%, o que pode gerar alguns problemas durante a modelagem devido ao desbalanceamento."
   ]
  },
  {
   "cell_type": "code",
   "execution_count": null,
   "id": "e52c11a2",
   "metadata": {},
   "outputs": [
    {
     "name": "stdout",
     "output_type": "stream",
     "text": [
      "Shape M-1: (4790, 98)\n"
     ]
    }
   ],
   "source": [
    "abt_M1 = gerar_abt(clientes_prep, inad_prep, tran_prep, usar_M_1=True)\n",
    "\n",
    "print(\"Shape M-1:\", abt_M1.shape)"
   ]
  },
  {
   "cell_type": "markdown",
   "id": "7f747f78",
   "metadata": {},
   "source": [
    "##### 2.1 SALVANDO ABT"
   ]
  },
  {
   "cell_type": "code",
   "execution_count": 136,
   "id": "d30058af",
   "metadata": {},
   "outputs": [],
   "source": [
    "os.makedirs('../data/processed', exist_ok=True)\n",
    "\n",
    "abt_M.to_parquet(\"../data/processed/abt_M.parquet\", index=False)\n",
    "abt_M1.to_parquet(\"../data/processed/abt_M1.parquet\", index=False)\n",
    "\n",
    "abt_M.to_csv(\"../data/processed/abt_M.csv\", index=False)\n",
    "abt_M1.to_csv(\"../data/processed/abt_M1.csv\", index=False)\n"
   ]
  },
  {
   "cell_type": "markdown",
   "id": "134c8b70",
   "metadata": {},
   "source": [
    "##### 2.2 MARCANDO COLUNAS\n",
    "\n",
    "- Colunas retiradas pois não serão utilizadas no estudo para prever inadimplência."
   ]
  },
  {
   "cell_type": "code",
   "execution_count": 133,
   "id": "76a58702",
   "metadata": {},
   "outputs": [],
   "source": [
    "cols_drop = ['id_cliente', 'data_referencia', 'data_abertura_conta', 'mes_abertura_conta','mes_safra']"
   ]
  },
  {
   "cell_type": "markdown",
   "id": "3f9d5cda",
   "metadata": {},
   "source": [
    "##### 2.3. OHE para variáveis categóricas"
   ]
  },
  {
   "cell_type": "code",
   "execution_count": null,
   "id": "a93d5e80",
   "metadata": {},
   "outputs": [
    {
     "name": "stdout",
     "output_type": "stream",
     "text": [
      "Shape original: (4790, 98)\n",
      "Shape com OHE: (4790, 102)\n",
      "Novas colunas: {'estado_civil_solteiro', 'estado_civil_viuvo', 'estado_civil_casado', 'estado_civil_nan', 'estado_civil_divorciado'}\n"
     ]
    }
   ],
   "source": [
    "abt = aplicar_ohe_completo(abt_M1, excluir = cols_drop)\n",
    "\n",
    "print(\"Shape original:\", abt_M.shape)\n",
    "print(\"Shape com OHE:\", abt.shape)\n",
    "print(\"Novas colunas:\", set(abt.columns) - set(abt_M.columns))\n"
   ]
  },
  {
   "cell_type": "markdown",
   "id": "2d0c8d96",
   "metadata": {},
   "source": [
    "##### 2.4. Diagnóstico de %  de *missings* por variável e algumas estatísticas descritivas"
   ]
  },
  {
   "cell_type": "code",
   "execution_count": 135,
   "id": "c831976b",
   "metadata": {},
   "outputs": [
    {
     "data": {
      "text/html": [
       "<div>\n",
       "<style scoped>\n",
       "    .dataframe tbody tr th:only-of-type {\n",
       "        vertical-align: middle;\n",
       "    }\n",
       "\n",
       "    .dataframe tbody tr th {\n",
       "        vertical-align: top;\n",
       "    }\n",
       "\n",
       "    .dataframe thead th {\n",
       "        text-align: right;\n",
       "    }\n",
       "</style>\n",
       "<table border=\"1\" class=\"dataframe\">\n",
       "  <thead>\n",
       "    <tr style=\"text-align: right;\">\n",
       "      <th></th>\n",
       "      <th>variavel</th>\n",
       "      <th>tipo</th>\n",
       "      <th>pct_missing</th>\n",
       "      <th>n_unique</th>\n",
       "      <th>media</th>\n",
       "      <th>min</th>\n",
       "      <th>max</th>\n",
       "    </tr>\n",
       "  </thead>\n",
       "  <tbody>\n",
       "    <tr>\n",
       "      <th>54</th>\n",
       "      <td>tempo_desde_ultima_1m</td>\n",
       "      <td>float64</td>\n",
       "      <td>71.61</td>\n",
       "      <td>31</td>\n",
       "      <td>12.725735</td>\n",
       "      <td>0.00</td>\n",
       "      <td>30.0</td>\n",
       "    </tr>\n",
       "    <tr>\n",
       "      <th>53</th>\n",
       "      <td>tempo_desde_primeira_1m</td>\n",
       "      <td>float64</td>\n",
       "      <td>71.61</td>\n",
       "      <td>31</td>\n",
       "      <td>16.958088</td>\n",
       "      <td>0.00</td>\n",
       "      <td>30.0</td>\n",
       "    </tr>\n",
       "    <tr>\n",
       "      <th>20</th>\n",
       "      <td>comp_vlr_1m_vs_3m</td>\n",
       "      <td>float64</td>\n",
       "      <td>49.83</td>\n",
       "      <td>592</td>\n",
       "      <td>0.336203</td>\n",
       "      <td>0.00</td>\n",
       "      <td>1.0</td>\n",
       "    </tr>\n",
       "    <tr>\n",
       "      <th>42</th>\n",
       "      <td>comp_qtde_1m_vs_3m</td>\n",
       "      <td>float64</td>\n",
       "      <td>49.79</td>\n",
       "      <td>19</td>\n",
       "      <td>0.336004</td>\n",
       "      <td>0.00</td>\n",
       "      <td>1.0</td>\n",
       "    </tr>\n",
       "    <tr>\n",
       "      <th>57</th>\n",
       "      <td>tempo_desde_ultima_3m</td>\n",
       "      <td>float64</td>\n",
       "      <td>49.79</td>\n",
       "      <td>92</td>\n",
       "      <td>30.912682</td>\n",
       "      <td>0.00</td>\n",
       "      <td>91.0</td>\n",
       "    </tr>\n",
       "    <tr>\n",
       "      <th>56</th>\n",
       "      <td>tempo_desde_primeira_3m</td>\n",
       "      <td>float64</td>\n",
       "      <td>49.79</td>\n",
       "      <td>92</td>\n",
       "      <td>59.648233</td>\n",
       "      <td>0.00</td>\n",
       "      <td>91.0</td>\n",
       "    </tr>\n",
       "    <tr>\n",
       "      <th>44</th>\n",
       "      <td>comp_qtde_3m_vs_6m</td>\n",
       "      <td>float64</td>\n",
       "      <td>35.41</td>\n",
       "      <td>40</td>\n",
       "      <td>0.498930</td>\n",
       "      <td>0.00</td>\n",
       "      <td>1.0</td>\n",
       "    </tr>\n",
       "    <tr>\n",
       "      <th>22</th>\n",
       "      <td>comp_vlr_3m_vs_6m</td>\n",
       "      <td>float64</td>\n",
       "      <td>35.41</td>\n",
       "      <td>743</td>\n",
       "      <td>0.494327</td>\n",
       "      <td>0.00</td>\n",
       "      <td>1.0</td>\n",
       "    </tr>\n",
       "    <tr>\n",
       "      <th>60</th>\n",
       "      <td>tempo_desde_ultima_6m</td>\n",
       "      <td>float64</td>\n",
       "      <td>35.41</td>\n",
       "      <td>182</td>\n",
       "      <td>53.622495</td>\n",
       "      <td>0.00</td>\n",
       "      <td>181.0</td>\n",
       "    </tr>\n",
       "    <tr>\n",
       "      <th>59</th>\n",
       "      <td>tempo_desde_primeira_6m</td>\n",
       "      <td>float64</td>\n",
       "      <td>35.41</td>\n",
       "      <td>184</td>\n",
       "      <td>128.218487</td>\n",
       "      <td>0.00</td>\n",
       "      <td>183.0</td>\n",
       "    </tr>\n",
       "    <tr>\n",
       "      <th>17</th>\n",
       "      <td>vlr_trans_ult</td>\n",
       "      <td>float64</td>\n",
       "      <td>24.36</td>\n",
       "      <td>1349</td>\n",
       "      <td>3291.296969</td>\n",
       "      <td>10.15</td>\n",
       "      <td>249889.5</td>\n",
       "    </tr>\n",
       "    <tr>\n",
       "      <th>24</th>\n",
       "      <td>comp_vlr_6m_vs_12m</td>\n",
       "      <td>float64</td>\n",
       "      <td>23.99</td>\n",
       "      <td>787</td>\n",
       "      <td>0.588080</td>\n",
       "      <td>0.00</td>\n",
       "      <td>1.0</td>\n",
       "    </tr>\n",
       "    <tr>\n",
       "      <th>62</th>\n",
       "      <td>tempo_desde_primeira_12m</td>\n",
       "      <td>float64</td>\n",
       "      <td>23.99</td>\n",
       "      <td>366</td>\n",
       "      <td>233.500961</td>\n",
       "      <td>0.00</td>\n",
       "      <td>365.0</td>\n",
       "    </tr>\n",
       "    <tr>\n",
       "      <th>46</th>\n",
       "      <td>comp_qtde_6m_vs_12m</td>\n",
       "      <td>float64</td>\n",
       "      <td>23.99</td>\n",
       "      <td>65</td>\n",
       "      <td>0.589511</td>\n",
       "      <td>0.00</td>\n",
       "      <td>1.0</td>\n",
       "    </tr>\n",
       "    <tr>\n",
       "      <th>63</th>\n",
       "      <td>tempo_desde_ultima_12m</td>\n",
       "      <td>float64</td>\n",
       "      <td>23.99</td>\n",
       "      <td>310</td>\n",
       "      <td>79.869541</td>\n",
       "      <td>0.00</td>\n",
       "      <td>356.0</td>\n",
       "    </tr>\n",
       "    <tr>\n",
       "      <th>18</th>\n",
       "      <td>vlr_trans_max</td>\n",
       "      <td>float64</td>\n",
       "      <td>23.90</td>\n",
       "      <td>482</td>\n",
       "      <td>8575.791103</td>\n",
       "      <td>92.80</td>\n",
       "      <td>249889.5</td>\n",
       "    </tr>\n",
       "    <tr>\n",
       "      <th>41</th>\n",
       "      <td>pct_qtde_trans_24m</td>\n",
       "      <td>float64</td>\n",
       "      <td>23.90</td>\n",
       "      <td>1</td>\n",
       "      <td>100.000000</td>\n",
       "      <td>100.00</td>\n",
       "      <td>100.0</td>\n",
       "    </tr>\n",
       "    <tr>\n",
       "      <th>37</th>\n",
       "      <td>pct_qtde_trans_1m</td>\n",
       "      <td>float64</td>\n",
       "      <td>23.90</td>\n",
       "      <td>44</td>\n",
       "      <td>13.785473</td>\n",
       "      <td>0.00</td>\n",
       "      <td>100.0</td>\n",
       "    </tr>\n",
       "    <tr>\n",
       "      <th>39</th>\n",
       "      <td>pct_qtde_trans_6m</td>\n",
       "      <td>float64</td>\n",
       "      <td>23.90</td>\n",
       "      <td>94</td>\n",
       "      <td>57.052247</td>\n",
       "      <td>0.00</td>\n",
       "      <td>100.0</td>\n",
       "    </tr>\n",
       "    <tr>\n",
       "      <th>40</th>\n",
       "      <td>pct_qtde_trans_12m</td>\n",
       "      <td>float64</td>\n",
       "      <td>23.90</td>\n",
       "      <td>89</td>\n",
       "      <td>87.148291</td>\n",
       "      <td>0.00</td>\n",
       "      <td>100.0</td>\n",
       "    </tr>\n",
       "  </tbody>\n",
       "</table>\n",
       "</div>"
      ],
      "text/plain": [
       "                    variavel     tipo  pct_missing  n_unique        media  \\\n",
       "54     tempo_desde_ultima_1m  float64        71.61        31    12.725735   \n",
       "53   tempo_desde_primeira_1m  float64        71.61        31    16.958088   \n",
       "20         comp_vlr_1m_vs_3m  float64        49.83       592     0.336203   \n",
       "42        comp_qtde_1m_vs_3m  float64        49.79        19     0.336004   \n",
       "57     tempo_desde_ultima_3m  float64        49.79        92    30.912682   \n",
       "56   tempo_desde_primeira_3m  float64        49.79        92    59.648233   \n",
       "44        comp_qtde_3m_vs_6m  float64        35.41        40     0.498930   \n",
       "22         comp_vlr_3m_vs_6m  float64        35.41       743     0.494327   \n",
       "60     tempo_desde_ultima_6m  float64        35.41       182    53.622495   \n",
       "59   tempo_desde_primeira_6m  float64        35.41       184   128.218487   \n",
       "17             vlr_trans_ult  float64        24.36      1349  3291.296969   \n",
       "24        comp_vlr_6m_vs_12m  float64        23.99       787     0.588080   \n",
       "62  tempo_desde_primeira_12m  float64        23.99       366   233.500961   \n",
       "46       comp_qtde_6m_vs_12m  float64        23.99        65     0.589511   \n",
       "63    tempo_desde_ultima_12m  float64        23.99       310    79.869541   \n",
       "18             vlr_trans_max  float64        23.90       482  8575.791103   \n",
       "41        pct_qtde_trans_24m  float64        23.90         1   100.000000   \n",
       "37         pct_qtde_trans_1m  float64        23.90        44    13.785473   \n",
       "39         pct_qtde_trans_6m  float64        23.90        94    57.052247   \n",
       "40        pct_qtde_trans_12m  float64        23.90        89    87.148291   \n",
       "\n",
       "       min       max  \n",
       "54    0.00      30.0  \n",
       "53    0.00      30.0  \n",
       "20    0.00       1.0  \n",
       "42    0.00       1.0  \n",
       "57    0.00      91.0  \n",
       "56    0.00      91.0  \n",
       "44    0.00       1.0  \n",
       "22    0.00       1.0  \n",
       "60    0.00     181.0  \n",
       "59    0.00     183.0  \n",
       "17   10.15  249889.5  \n",
       "24    0.00       1.0  \n",
       "62    0.00     365.0  \n",
       "46    0.00       1.0  \n",
       "63    0.00     356.0  \n",
       "18   92.80  249889.5  \n",
       "41  100.00     100.0  \n",
       "37    0.00     100.0  \n",
       "39    0.00     100.0  \n",
       "40    0.00     100.0  "
      ]
     },
     "execution_count": 135,
     "metadata": {},
     "output_type": "execute_result"
    }
   ],
   "source": [
    "diagnostico_abt(abt).head(20)"
   ]
  },
  {
   "cell_type": "markdown",
   "id": "9d197cd8",
   "metadata": {},
   "source": [
    "##### 2.5. Avaliação do valor do IV para cada variável para direcionamento dos possíveis preditores mais relevantes"
   ]
  },
  {
   "cell_type": "code",
   "execution_count": null,
   "id": "b37a862c",
   "metadata": {},
   "outputs": [
    {
     "data": {
      "text/html": [
       "<div>\n",
       "<style scoped>\n",
       "    .dataframe tbody tr th:only-of-type {\n",
       "        vertical-align: middle;\n",
       "    }\n",
       "\n",
       "    .dataframe tbody tr th {\n",
       "        vertical-align: top;\n",
       "    }\n",
       "\n",
       "    .dataframe thead th {\n",
       "        text-align: right;\n",
       "    }\n",
       "</style>\n",
       "<table border=\"1\" class=\"dataframe\">\n",
       "  <thead>\n",
       "    <tr style=\"text-align: right;\">\n",
       "      <th></th>\n",
       "      <th>IV</th>\n",
       "    </tr>\n",
       "  </thead>\n",
       "  <tbody>\n",
       "    <tr>\n",
       "      <th>tempo_desde_primeira_1m</th>\n",
       "      <td>0.099517</td>\n",
       "    </tr>\n",
       "    <tr>\n",
       "      <th>tempo_desde_primeira_3m</th>\n",
       "      <td>0.043314</td>\n",
       "    </tr>\n",
       "    <tr>\n",
       "      <th>vlr_trans_max</th>\n",
       "      <td>0.042664</td>\n",
       "    </tr>\n",
       "    <tr>\n",
       "      <th>tempo_desde_primeira_6m</th>\n",
       "      <td>0.040421</td>\n",
       "    </tr>\n",
       "    <tr>\n",
       "      <th>vlr_trans_min</th>\n",
       "      <td>0.036257</td>\n",
       "    </tr>\n",
       "    <tr>\n",
       "      <th>tempo_emprego_anos</th>\n",
       "      <td>0.036028</td>\n",
       "    </tr>\n",
       "    <tr>\n",
       "      <th>tempo_desde_ultima_12m</th>\n",
       "      <td>0.034349</td>\n",
       "    </tr>\n",
       "    <tr>\n",
       "      <th>tempo_desde_ultima_24m</th>\n",
       "      <td>0.032790</td>\n",
       "    </tr>\n",
       "    <tr>\n",
       "      <th>tempo_desde_ultima_ever</th>\n",
       "      <td>0.032790</td>\n",
       "    </tr>\n",
       "    <tr>\n",
       "      <th>vlr_trans_ult</th>\n",
       "      <td>0.030856</td>\n",
       "    </tr>\n",
       "    <tr>\n",
       "      <th>tempo_desde_ultima_3m</th>\n",
       "      <td>0.027400</td>\n",
       "    </tr>\n",
       "    <tr>\n",
       "      <th>idade_relativa</th>\n",
       "      <td>0.027049</td>\n",
       "    </tr>\n",
       "    <tr>\n",
       "      <th>comp_qtde_3m_vs_6m</th>\n",
       "      <td>0.024342</td>\n",
       "    </tr>\n",
       "    <tr>\n",
       "      <th>qtde_trans_12m</th>\n",
       "      <td>0.023899</td>\n",
       "    </tr>\n",
       "    <tr>\n",
       "      <th>tempo_desde_ultima_1m</th>\n",
       "      <td>0.021797</td>\n",
       "    </tr>\n",
       "    <tr>\n",
       "      <th>produtos_por_ano_conta</th>\n",
       "      <td>0.021772</td>\n",
       "    </tr>\n",
       "    <tr>\n",
       "      <th>produtos_por_mes_conta</th>\n",
       "      <td>0.021772</td>\n",
       "    </tr>\n",
       "    <tr>\n",
       "      <th>comp_vlr_3m_vs_6m</th>\n",
       "      <td>0.021648</td>\n",
       "    </tr>\n",
       "    <tr>\n",
       "      <th>tempo_relacionamento_anos</th>\n",
       "      <td>0.021384</td>\n",
       "    </tr>\n",
       "    <tr>\n",
       "      <th>tempo_relacionamento_meses</th>\n",
       "      <td>0.021384</td>\n",
       "    </tr>\n",
       "    <tr>\n",
       "      <th>tempo_desde_ultima_6m</th>\n",
       "      <td>0.020793</td>\n",
       "    </tr>\n",
       "    <tr>\n",
       "      <th>renda_por_limite</th>\n",
       "      <td>0.020484</td>\n",
       "    </tr>\n",
       "    <tr>\n",
       "      <th>idade2</th>\n",
       "      <td>0.019282</td>\n",
       "    </tr>\n",
       "    <tr>\n",
       "      <th>idade</th>\n",
       "      <td>0.019282</td>\n",
       "    </tr>\n",
       "    <tr>\n",
       "      <th>delta_qtde_6m_vs_12m</th>\n",
       "      <td>0.017078</td>\n",
       "    </tr>\n",
       "    <tr>\n",
       "      <th>tempo_desde_primeira_12m</th>\n",
       "      <td>0.016731</td>\n",
       "    </tr>\n",
       "    <tr>\n",
       "      <th>comp_vlr_1m_vs_3m</th>\n",
       "      <td>0.015843</td>\n",
       "    </tr>\n",
       "    <tr>\n",
       "      <th>renda_mensal</th>\n",
       "      <td>0.013843</td>\n",
       "    </tr>\n",
       "    <tr>\n",
       "      <th>log_renda</th>\n",
       "      <td>0.013843</td>\n",
       "    </tr>\n",
       "    <tr>\n",
       "      <th>score_interno</th>\n",
       "      <td>0.012113</td>\n",
       "    </tr>\n",
       "  </tbody>\n",
       "</table>\n",
       "</div>"
      ],
      "text/plain": [
       "                                  IV\n",
       "tempo_desde_primeira_1m     0.099517\n",
       "tempo_desde_primeira_3m     0.043314\n",
       "vlr_trans_max               0.042664\n",
       "tempo_desde_primeira_6m     0.040421\n",
       "vlr_trans_min               0.036257\n",
       "tempo_emprego_anos          0.036028\n",
       "tempo_desde_ultima_12m      0.034349\n",
       "tempo_desde_ultima_24m      0.032790\n",
       "tempo_desde_ultima_ever     0.032790\n",
       "vlr_trans_ult               0.030856\n",
       "tempo_desde_ultima_3m       0.027400\n",
       "idade_relativa              0.027049\n",
       "comp_qtde_3m_vs_6m          0.024342\n",
       "qtde_trans_12m              0.023899\n",
       "tempo_desde_ultima_1m       0.021797\n",
       "produtos_por_ano_conta      0.021772\n",
       "produtos_por_mes_conta      0.021772\n",
       "comp_vlr_3m_vs_6m           0.021648\n",
       "tempo_relacionamento_anos   0.021384\n",
       "tempo_relacionamento_meses  0.021384\n",
       "tempo_desde_ultima_6m       0.020793\n",
       "renda_por_limite            0.020484\n",
       "idade2                      0.019282\n",
       "idade                       0.019282\n",
       "delta_qtde_6m_vs_12m        0.017078\n",
       "tempo_desde_primeira_12m    0.016731\n",
       "comp_vlr_1m_vs_3m           0.015843\n",
       "renda_mensal                0.013843\n",
       "log_renda                   0.013843\n",
       "score_interno               0.012113"
      ]
     },
     "execution_count": 144,
     "metadata": {},
     "output_type": "execute_result"
    }
   ],
   "source": [
    "df_iv = avaliar_iv(abt, target=\"atraso_90d\", top=30)\n",
    "df_iv.head(30)\n"
   ]
  },
  {
   "cell_type": "markdown",
   "id": "c1db0544",
   "metadata": {},
   "source": [
    "#### Possíveis direcionamentos\n",
    "- Tempo desde a primeira transação é a variável mais informativa.\n",
    "\n",
    "- Valor máximo/mínimo e última transação também se destacam, assim como *tempo_emprego_anos*\n",
    "\n",
    "- Variáveis cadastrais como idade e renda parecem mais fracas para prever inadimplência. \n",
    "\n",
    "- Nenhum IV acima de 0.1 pode indicar que não há leakage, fortalecendo a ideia de uma construção de variáveis de forma consistente."
   ]
  },
  {
   "cell_type": "markdown",
   "id": "11e8017c",
   "metadata": {},
   "source": [
    "##### 2.6. Remoção de variáveis\n",
    "\n",
    "- IV abaixo do limiar é removido\n",
    "- Correlação acima do limiar entre 2 variáveis elimina a que possui o menor IV "
   ]
  },
  {
   "cell_type": "code",
   "execution_count": null,
   "id": "e840412b",
   "metadata": {},
   "outputs": [
    {
     "name": "stdout",
     "output_type": "stream",
     "text": [
      "Top variáveis por IV:\n"
     ]
    },
    {
     "data": {
      "text/html": [
       "<div>\n",
       "<style scoped>\n",
       "    .dataframe tbody tr th:only-of-type {\n",
       "        vertical-align: middle;\n",
       "    }\n",
       "\n",
       "    .dataframe tbody tr th {\n",
       "        vertical-align: top;\n",
       "    }\n",
       "\n",
       "    .dataframe thead th {\n",
       "        text-align: right;\n",
       "    }\n",
       "</style>\n",
       "<table border=\"1\" class=\"dataframe\">\n",
       "  <thead>\n",
       "    <tr style=\"text-align: right;\">\n",
       "      <th></th>\n",
       "      <th>IV</th>\n",
       "    </tr>\n",
       "  </thead>\n",
       "  <tbody>\n",
       "    <tr>\n",
       "      <th>tempo_desde_primeira_1m</th>\n",
       "      <td>0.099517</td>\n",
       "    </tr>\n",
       "    <tr>\n",
       "      <th>tempo_desde_primeira_3m</th>\n",
       "      <td>0.043314</td>\n",
       "    </tr>\n",
       "    <tr>\n",
       "      <th>vlr_trans_max</th>\n",
       "      <td>0.042664</td>\n",
       "    </tr>\n",
       "    <tr>\n",
       "      <th>tempo_desde_primeira_6m</th>\n",
       "      <td>0.040421</td>\n",
       "    </tr>\n",
       "    <tr>\n",
       "      <th>vlr_trans_min</th>\n",
       "      <td>0.036257</td>\n",
       "    </tr>\n",
       "    <tr>\n",
       "      <th>tempo_emprego_anos</th>\n",
       "      <td>0.036028</td>\n",
       "    </tr>\n",
       "    <tr>\n",
       "      <th>tempo_desde_ultima_12m</th>\n",
       "      <td>0.034349</td>\n",
       "    </tr>\n",
       "    <tr>\n",
       "      <th>tempo_desde_ultima_24m</th>\n",
       "      <td>0.032790</td>\n",
       "    </tr>\n",
       "    <tr>\n",
       "      <th>tempo_desde_ultima_ever</th>\n",
       "      <td>0.032790</td>\n",
       "    </tr>\n",
       "    <tr>\n",
       "      <th>vlr_trans_ult</th>\n",
       "      <td>0.030856</td>\n",
       "    </tr>\n",
       "    <tr>\n",
       "      <th>tempo_desde_ultima_3m</th>\n",
       "      <td>0.027400</td>\n",
       "    </tr>\n",
       "    <tr>\n",
       "      <th>idade_relativa</th>\n",
       "      <td>0.027049</td>\n",
       "    </tr>\n",
       "    <tr>\n",
       "      <th>comp_qtde_3m_vs_6m</th>\n",
       "      <td>0.024342</td>\n",
       "    </tr>\n",
       "    <tr>\n",
       "      <th>qtde_trans_12m</th>\n",
       "      <td>0.023899</td>\n",
       "    </tr>\n",
       "    <tr>\n",
       "      <th>tempo_desde_ultima_1m</th>\n",
       "      <td>0.021797</td>\n",
       "    </tr>\n",
       "    <tr>\n",
       "      <th>produtos_por_ano_conta</th>\n",
       "      <td>0.021772</td>\n",
       "    </tr>\n",
       "    <tr>\n",
       "      <th>produtos_por_mes_conta</th>\n",
       "      <td>0.021772</td>\n",
       "    </tr>\n",
       "    <tr>\n",
       "      <th>comp_vlr_3m_vs_6m</th>\n",
       "      <td>0.021648</td>\n",
       "    </tr>\n",
       "    <tr>\n",
       "      <th>tempo_relacionamento_anos</th>\n",
       "      <td>0.021384</td>\n",
       "    </tr>\n",
       "    <tr>\n",
       "      <th>tempo_relacionamento_meses</th>\n",
       "      <td>0.021384</td>\n",
       "    </tr>\n",
       "  </tbody>\n",
       "</table>\n",
       "</div>"
      ],
      "text/plain": [
       "                                  IV\n",
       "tempo_desde_primeira_1m     0.099517\n",
       "tempo_desde_primeira_3m     0.043314\n",
       "vlr_trans_max               0.042664\n",
       "tempo_desde_primeira_6m     0.040421\n",
       "vlr_trans_min               0.036257\n",
       "tempo_emprego_anos          0.036028\n",
       "tempo_desde_ultima_12m      0.034349\n",
       "tempo_desde_ultima_24m      0.032790\n",
       "tempo_desde_ultima_ever     0.032790\n",
       "vlr_trans_ult               0.030856\n",
       "tempo_desde_ultima_3m       0.027400\n",
       "idade_relativa              0.027049\n",
       "comp_qtde_3m_vs_6m          0.024342\n",
       "qtde_trans_12m              0.023899\n",
       "tempo_desde_ultima_1m       0.021797\n",
       "produtos_por_ano_conta      0.021772\n",
       "produtos_por_mes_conta      0.021772\n",
       "comp_vlr_3m_vs_6m           0.021648\n",
       "tempo_relacionamento_anos   0.021384\n",
       "tempo_relacionamento_meses  0.021384"
      ]
     },
     "execution_count": 125,
     "metadata": {},
     "output_type": "execute_result"
    }
   ],
   "source": [
    "res = remover_vars(abt, target=\"atraso_90d\", iv_threshold=0.02, corr_threshold=0.7)\n",
    "\n",
    "print(\"Top variáveis por IV:\")\n",
    "res[\"iv_ranking\"].head(20)\n"
   ]
  },
  {
   "cell_type": "code",
   "execution_count": 128,
   "id": "281a259f",
   "metadata": {},
   "outputs": [
    {
     "name": "stdout",
     "output_type": "stream",
     "text": [
      "\n",
      "Selecionadas (IV ≥ 0.02):\n"
     ]
    },
    {
     "data": {
      "text/plain": [
       "['tempo_desde_primeira_1m',\n",
       " 'tempo_desde_primeira_3m',\n",
       " 'vlr_trans_max',\n",
       " 'tempo_desde_primeira_6m',\n",
       " 'vlr_trans_min',\n",
       " 'tempo_emprego_anos',\n",
       " 'tempo_desde_ultima_12m',\n",
       " 'tempo_desde_ultima_24m',\n",
       " 'tempo_desde_ultima_ever',\n",
       " 'vlr_trans_ult',\n",
       " 'tempo_desde_ultima_3m',\n",
       " 'idade_relativa',\n",
       " 'comp_qtde_3m_vs_6m',\n",
       " 'qtde_trans_12m',\n",
       " 'tempo_desde_ultima_1m',\n",
       " 'produtos_por_ano_conta',\n",
       " 'produtos_por_mes_conta',\n",
       " 'comp_vlr_3m_vs_6m',\n",
       " 'tempo_relacionamento_anos',\n",
       " 'tempo_relacionamento_meses',\n",
       " 'tempo_desde_ultima_6m',\n",
       " 'renda_por_limite']"
      ]
     },
     "execution_count": 128,
     "metadata": {},
     "output_type": "execute_result"
    }
   ],
   "source": [
    "print(\"\\nSelecionadas (IV ≥ 0.02):\")\n",
    "res[\"selecionadas_iniciais\"]"
   ]
  },
  {
   "cell_type": "code",
   "execution_count": 129,
   "id": "90fafad5",
   "metadata": {},
   "outputs": [
    {
     "name": "stdout",
     "output_type": "stream",
     "text": [
      "\n",
      "Removidas por correlação:\n"
     ]
    },
    {
     "data": {
      "text/plain": [
       "['tempo_relacionamento_meses',\n",
       " 'comp_qtde_3m_vs_6m',\n",
       " 'comp_vlr_3m_vs_6m',\n",
       " 'tempo_desde_ultima_6m',\n",
       " 'tempo_desde_ultima_3m',\n",
       " 'tempo_desde_ultima_ever',\n",
       " 'tempo_desde_ultima_24m',\n",
       " 'produtos_por_mes_conta',\n",
       " 'tempo_relacionamento_anos',\n",
       " 'tempo_desde_ultima_1m',\n",
       " 'produtos_por_ano_conta']"
      ]
     },
     "execution_count": 129,
     "metadata": {},
     "output_type": "execute_result"
    }
   ],
   "source": [
    "print(\"\\nRemovidas por correlação:\")\n",
    "res[\"removidas_corr\"]"
   ]
  },
  {
   "cell_type": "code",
   "execution_count": 123,
   "id": "ede43afc",
   "metadata": {},
   "outputs": [
    {
     "name": "stdout",
     "output_type": "stream",
     "text": [
      "\n",
      "Variáveis finais:\n"
     ]
    },
    {
     "data": {
      "text/plain": [
       "['tempo_desde_primeira_1m',\n",
       " 'tempo_desde_primeira_3m',\n",
       " 'vlr_trans_max',\n",
       " 'tempo_desde_primeira_6m',\n",
       " 'vlr_trans_min',\n",
       " 'tempo_emprego_anos',\n",
       " 'tempo_desde_ultima_12m',\n",
       " 'vlr_trans_ult',\n",
       " 'idade_relativa',\n",
       " 'qtde_trans_12m',\n",
       " 'renda_por_limite']"
      ]
     },
     "execution_count": 123,
     "metadata": {},
     "output_type": "execute_result"
    }
   ],
   "source": [
    "print(\"\\nVariáveis finais:\")\n",
    "res[\"final\"]"
   ]
  },
  {
   "cell_type": "code",
   "execution_count": 124,
   "id": "15744a70",
   "metadata": {},
   "outputs": [
    {
     "data": {
      "text/html": [
       "<div>\n",
       "<style scoped>\n",
       "    .dataframe tbody tr th:only-of-type {\n",
       "        vertical-align: middle;\n",
       "    }\n",
       "\n",
       "    .dataframe tbody tr th {\n",
       "        vertical-align: top;\n",
       "    }\n",
       "\n",
       "    .dataframe thead th {\n",
       "        text-align: right;\n",
       "    }\n",
       "</style>\n",
       "<table border=\"1\" class=\"dataframe\">\n",
       "  <thead>\n",
       "    <tr style=\"text-align: right;\">\n",
       "      <th></th>\n",
       "      <th>IV</th>\n",
       "    </tr>\n",
       "  </thead>\n",
       "  <tbody>\n",
       "    <tr>\n",
       "      <th>tempo_desde_primeira_1m</th>\n",
       "      <td>0.099517</td>\n",
       "    </tr>\n",
       "    <tr>\n",
       "      <th>tempo_desde_primeira_3m</th>\n",
       "      <td>0.043314</td>\n",
       "    </tr>\n",
       "    <tr>\n",
       "      <th>vlr_trans_max</th>\n",
       "      <td>0.042664</td>\n",
       "    </tr>\n",
       "    <tr>\n",
       "      <th>tempo_desde_primeira_6m</th>\n",
       "      <td>0.040421</td>\n",
       "    </tr>\n",
       "    <tr>\n",
       "      <th>vlr_trans_min</th>\n",
       "      <td>0.036257</td>\n",
       "    </tr>\n",
       "    <tr>\n",
       "      <th>tempo_emprego_anos</th>\n",
       "      <td>0.036028</td>\n",
       "    </tr>\n",
       "    <tr>\n",
       "      <th>tempo_desde_ultima_12m</th>\n",
       "      <td>0.034349</td>\n",
       "    </tr>\n",
       "    <tr>\n",
       "      <th>tempo_desde_ultima_24m</th>\n",
       "      <td>0.032790</td>\n",
       "    </tr>\n",
       "    <tr>\n",
       "      <th>tempo_desde_ultima_ever</th>\n",
       "      <td>0.032790</td>\n",
       "    </tr>\n",
       "    <tr>\n",
       "      <th>vlr_trans_ult</th>\n",
       "      <td>0.030856</td>\n",
       "    </tr>\n",
       "  </tbody>\n",
       "</table>\n",
       "</div>"
      ],
      "text/plain": [
       "                               IV\n",
       "tempo_desde_primeira_1m  0.099517\n",
       "tempo_desde_primeira_3m  0.043314\n",
       "vlr_trans_max            0.042664\n",
       "tempo_desde_primeira_6m  0.040421\n",
       "vlr_trans_min            0.036257\n",
       "tempo_emprego_anos       0.036028\n",
       "tempo_desde_ultima_12m   0.034349\n",
       "tempo_desde_ultima_24m   0.032790\n",
       "tempo_desde_ultima_ever  0.032790\n",
       "vlr_trans_ult            0.030856"
      ]
     },
     "execution_count": 124,
     "metadata": {},
     "output_type": "execute_result"
    }
   ],
   "source": [
    "res['iv_ranking'].head(10)"
   ]
  },
  {
   "cell_type": "markdown",
   "id": "ec275e40",
   "metadata": {},
   "source": [
    "## 3. MODELAGEM"
   ]
  },
  {
   "cell_type": "markdown",
   "id": "015f638e",
   "metadata": {},
   "source": [
    "- Essa seção se propõe a trazer alguns modelos que podem servir como baseline num primeiro momento para que um refinamento posterior possa melhorar o desempenho.\n",
    "\n",
    "- Inicialmente serão testados 2 modelos: a regressão logística, que é um modelo altamente explicativo por conta dos seus coeficientes que dão a dimensão do impacto de suas variáveis; e o modelo LightGBM.\n",
    "\n",
    "- As etapas seguintes vão executar as etapas tradicionais da modelagem: definição do *target*, separação em base de treino e teste, tratamento de colunas categóricas e conversão em numéricas através de One-hot encoding, treinamento em si e avaliação com algumas métricas como acurácia, precisão, recall e F1-Score. \n",
    "\n",
    "- Como demonstrado abaixo, a taxa de inadimplência tem valor aproximado de 10%, o que pode representar um desafio quanto à questão do desbalanceamento entre as classes."
   ]
  },
  {
   "cell_type": "code",
   "execution_count": 166,
   "id": "1a8e5e81",
   "metadata": {},
   "outputs": [],
   "source": [
    "features_final = res[\"final\"]\n",
    "X = abt[features_final].copy()\n",
    "y = abt[\"atraso_90d\"]\n",
    "\n",
    "#  Detectar variáveis categóricas\n",
    "cat_features = [col for col in X.columns if X[col].dtype.name == \"category\"]\n",
    "\n",
    "features_final = res[\"final\"]\n",
    "X = abt[features_final].copy()\n",
    "y = abt[\"atraso_90d\"]\n"
   ]
  },
  {
   "cell_type": "code",
   "execution_count": 165,
   "id": "ab06a7a3",
   "metadata": {},
   "outputs": [
    {
     "data": {
      "text/plain": [
       "(4790, 11)"
      ]
     },
     "execution_count": 165,
     "metadata": {},
     "output_type": "execute_result"
    }
   ],
   "source": [
    "X.shape"
   ]
  },
  {
   "cell_type": "markdown",
   "id": "b6d42b1b",
   "metadata": {},
   "source": [
    "- O setup dos modelos teve alguns detalhes que convém chamar atenção: o modelo de regressão logística no scikit-learn não aceita nativamente valores nulos nas colunas. Assim, foi criada uma flag -99 para cobrir esses casos. Assim como variáveis categóricas passaram pelo processo de One-hot encoding, como mencionado anteriormente.\n",
    "\n",
    "- As avaliações levaram em conta métricas como AUC, precisão, recall e F1-score. Acurácia também é exibida, mas possui uma importância e significado menos relevante nesse contexto devido ao desbalanceamneto."
   ]
  },
  {
   "cell_type": "code",
   "execution_count": 168,
   "id": "5388319a",
   "metadata": {},
   "outputs": [
    {
     "name": "stdout",
     "output_type": "stream",
     "text": [
      "[LightGBM] [Info] Number of positive: 339, number of negative: 3014\n",
      "[LightGBM] [Info] Auto-choosing col-wise multi-threading, the overhead of testing was 0.001610 seconds.\n",
      "You can set `force_col_wise=true` to remove the overhead.\n",
      "[LightGBM] [Info] Total Bins 1935\n",
      "[LightGBM] [Info] Number of data points in the train set: 3353, number of used features: 20\n",
      "[LightGBM] [Info] [binary:BoostFromScore]: pavg=0.500000 -> initscore=-0.000000\n",
      "[LightGBM] [Info] Start training from score -0.000000\n"
     ]
    }
   ],
   "source": [
    "# ===============================\n",
    "# PREPARAÇÃO PARA REGRESSÃO LOGÍSTICA\n",
    "# ===============================\n",
    "from feature_engine.encoding import OneHotEncoder\n",
    "\n",
    "def preparar_logit(X_train, X_test, cat_features):\n",
    "    X_train_logit = X_train.copy()\n",
    "    X_test_logit  = X_test.copy()\n",
    "\n",
    "    # Para variáveis numéricas: criar flag e imputar -99\n",
    "    for col in X_train_logit.columns:\n",
    "        if col not in cat_features:\n",
    "            X_train_logit[col + \"_isna\"] = X_train_logit[col].isna().astype(int)\n",
    "            X_test_logit[col + \"_isna\"]  = X_test_logit[col].isna().astype(int)\n",
    "            X_train_logit[col] = X_train_logit[col].fillna(-99)\n",
    "            X_test_logit[col]  = X_test_logit[col].fillna(-99)\n",
    "\n",
    "    # Para categóricas: imputar \"missing\" e aplicar OHE\n",
    "    if cat_features:\n",
    "        for col in cat_features:\n",
    "            X_train_logit[col] = X_train_logit[col].astype(\"object\").fillna(\"missing\")\n",
    "            X_test_logit[col]  = X_test_logit[col].astype(\"object\").fillna(\"missing\")\n",
    "\n",
    "        ohe = OneHotEncoder(variables=cat_features, ignore_format=True)\n",
    "        X_train_logit = ohe.fit_transform(X_train_logit)\n",
    "        X_test_logit  = ohe.transform(X_test_logit)\n",
    "\n",
    "    return X_train_logit, X_test_logit\n",
    "\n",
    "X_train_logit, X_test_logit = preparar_logit(X_train, X_test, cat_features)\n",
    "\n",
    "# ===============================\n",
    "# PREPARAÇÃO PARA LIGHTGBM\n",
    "# ===============================\n",
    "X_train_lgbm = X_train.copy()\n",
    "X_test_lgbm  = X_test.copy()\n",
    "\n",
    "for col in cat_features:\n",
    "    X_train_lgbm[col] = X_train_lgbm[col].astype(\"category\")\n",
    "    X_test_lgbm[col]  = X_test_lgbm[col].astype(\"category\")\n",
    "\n",
    "# ===============================\n",
    "# SPLIT TREINO/TESTE\n",
    "# ===============================\n",
    "# X_train_logit, X_test_logit, y_train, y_test = train_test_split(\n",
    "#     X_logit, y, test_size=0.3, random_state=42, stratify=y\n",
    "# )\n",
    "# X_train_lgbm, X_test_lgbm, _, _ = train_test_split(\n",
    "#     X_lgbm, y, test_size=0.3, random_state=42, stratify=y\n",
    "# )\n",
    "\n",
    "# ===============================\n",
    "# REGRESSÃO LOGÍSTICA\n",
    "# ===============================\n",
    "from sklearn.linear_model import LogisticRegression\n",
    "from sklearn.metrics import roc_auc_score, confusion_matrix, precision_score, recall_score, f1_score, RocCurveDisplay\n",
    "import matplotlib.pyplot as plt\n",
    "\n",
    "logit = LogisticRegression(\n",
    "    max_iter=500, \n",
    "    solver=\"liblinear\", \n",
    "    class_weight=\"balanced\",\n",
    "    random_state=42\n",
    ")\n",
    "logit.fit(X_train_logit, y_train)\n",
    "y_pred_proba_logit = logit.predict_proba(X_test_logit)[:, 1]\n",
    "\n",
    "auc_logit = roc_auc_score(y_test, y_pred_proba_logit)\n",
    "cutoff_logit, ks_logit = cutoff_otimo_ks(y_test, y_pred_proba_logit)\n",
    "\n",
    "\n",
    "# ===============================\n",
    "# LIGHTGBM\n",
    "# ===============================\n",
    "from lightgbm import LGBMClassifier\n",
    "\n",
    "lgbm = LGBMClassifier(\n",
    "    n_estimators=500,\n",
    "    learning_rate=0.05,\n",
    "    num_leaves=31,\n",
    "    random_state=42,\n",
    "    class_weight=\"balanced\"\n",
    ")\n",
    "lgbm.fit(X_train_lgbm, y_train, categorical_feature=cat_features if cat_features else None)\n",
    "y_pred_proba_lgbm = lgbm.predict_proba(X_test_lgbm)[:, 1]\n",
    "\n",
    "auc_lgbm = roc_auc_score(y_test, y_pred_proba_lgbm)\n",
    "cutoff_lgbm, ks_lgbm = cutoff_otimo_ks(y_test, y_pred_proba_lgbm)"
   ]
  },
  {
   "cell_type": "markdown",
   "id": "dbbba243",
   "metadata": {},
   "source": [
    "Os resultados a seguir levantam hipóteses principais no que se refere ao seu fraco poder preditivo:\n",
    "\n",
    "- O desbalanceamento não foi tratado de forma adequada e merece uma outra abordagem.\n",
    "\n",
    "- As curvas de AUC têm área de 50%, o que é equivalente a uma escolha ao acaso. As faixas no gráfico de KS não apresentam separabilidade entre os grupos.\n",
    "\n",
    "- As variáveis podem não possuir poder preditivo, apesar das suspeitas quando olhamos as métricas construídas anteriormente. O que \n",
    "\n",
    "- Diante do aparente poder preditivo baixo das variáveis construídas, a contraproposta a esse resultado é uma que elabora um pouco mais a construção do próximo modelo, que focará principalmente em garantir uma melhora, ainda que discreta, em prever os inadimplentes."
   ]
  },
  {
   "cell_type": "code",
   "execution_count": 170,
   "id": "5ee1b38a",
   "metadata": {},
   "outputs": [
    {
     "name": "stdout",
     "output_type": "stream",
     "text": [
      "\n",
      "Logit -> AUC: 0.516, KS: 0.062, Cutoff ótimo: 0.490\n",
      "Matriz de confusão (cutoff 0.490):\n",
      "[[569 723]\n",
      " [ 55  90]]\n",
      "Precisão: 0.111 | Recall: 0.621 | F1: 0.188\n",
      "\n",
      "LightGBM -> AUC: 0.510, KS: 0.056, Cutoff ótimo: 0.006\n",
      "Matriz de confusão (cutoff 0.006):\n",
      "[[ 169 1123]\n",
      " [  11  134]]\n",
      "Precisão: 0.107 | Recall: 0.924 | F1: 0.191\n"
     ]
    },
    {
     "data": {
      "image/png": "[encoded data removed]",
      "text/plain": [
       "<Figure size 640x480 with 1 Axes>"
      ]
     },
     "metadata": {},
     "output_type": "display_data"
    },
    {
     "data": {
      "image/png": "[encoded data removed]",
      "text/plain": [
       "<Figure size 640x480 with 1 Axes>"
      ]
     },
     "metadata": {},
     "output_type": "display_data"
    }
   ],
   "source": [
    "# ===============================\n",
    "# RESULTADOS\n",
    "# ===============================\n",
    "for model_name, y_proba, auc, cutoff, ks in [\n",
    "    (\"Logit\", y_pred_proba_logit, auc_logit, cutoff_logit, ks_logit),\n",
    "    (\"LightGBM\", y_pred_proba_lgbm, auc_lgbm, cutoff_lgbm, ks_lgbm)\n",
    "]:\n",
    "    print(f\"\\n{model_name} -> AUC: {auc:.3f}, KS: {ks:.3f}, Cutoff ótimo: {cutoff:.3f}\")\n",
    "    \n",
    "    y_pred = (y_proba >= cutoff).astype(int)\n",
    "    cm = confusion_matrix(y_test, y_pred)\n",
    "    prec = precision_score(y_test, y_pred, zero_division=0)\n",
    "    rec = recall_score(y_test, y_pred, zero_division=0)\n",
    "    f1 = f1_score(y_test, y_pred, zero_division=0)\n",
    "\n",
    "    print(f\"Matriz de confusão (cutoff {cutoff:.3f}):\\n{cm}\")\n",
    "    print(f\"Precisão: {prec:.3f} | Recall: {rec:.3f} | F1: {f1:.3f}\")\n",
    "\n",
    "# ===============================\n",
    "# CURVAS ROC\n",
    "# ===============================\n",
    "\n",
    "RocCurveDisplay.from_predictions(y_test, y_pred_proba_logit, name=\"Regressão Logística\")\n",
    "RocCurveDisplay.from_predictions(y_test, y_pred_proba_lgbm, name=\"LightGBM\")\n",
    "plt.show()\n",
    "\n"
   ]
  },
  {
   "cell_type": "code",
   "execution_count": 171,
   "id": "37c15ad0",
   "metadata": {},
   "outputs": [
    {
     "name": "stdout",
     "output_type": "stream",
     "text": [
      "Taxa de default (y=1): 0.10104384133611691\n",
      "\n",
      "Distribuição do target:\n",
      " atraso_90d\n",
      "0.0    4306\n",
      "1.0     484\n",
      "Name: count, dtype: int64\n"
     ]
    },
    {
     "data": {
      "image/png": "[encoded data removed]",
      "text/plain": [
       "<Figure size 1200x500 with 2 Axes>"
      ]
     },
     "metadata": {},
     "output_type": "display_data"
    }
   ],
   "source": [
    "import matplotlib.pyplot as plt\n",
    "\n",
    "# -------------------------------\n",
    "# 1. Diagnóstico do target\n",
    "# -------------------------------\n",
    "print(\"Taxa de default (y=1):\", abt[\"atraso_90d\"].mean())\n",
    "print(\"\\nDistribuição do target:\\n\", abt[\"atraso_90d\"].value_counts())\n",
    "\n",
    "# -------------------------------\n",
    "# 2. Histograma das probabilidades previstas\n",
    "# -------------------------------\n",
    "plt.figure(figsize=(12,5))\n",
    "\n",
    "plt.subplot(1,2,1)\n",
    "plt.hist(y_pred_proba_logit, bins=30, alpha=0.6, color=\"blue\")\n",
    "plt.title(\"Distribuição das probabilidades - Regressão Logística\")\n",
    "plt.xlabel(\"Probabilidade de Default\")\n",
    "plt.ylabel(\"Frequência\")\n",
    "\n",
    "plt.subplot(1,2,2)\n",
    "plt.hist(y_pred_proba_lgbm, bins=30, alpha=0.6, color=\"green\")\n",
    "plt.title(\"Distribuição das probabilidades - LightGBM\")\n",
    "plt.xlabel(\"Probabilidade de Default\")\n",
    "plt.ylabel(\"Frequência\")\n",
    "\n",
    "plt.tight_layout()\n",
    "plt.show()\n"
   ]
  },
  {
   "cell_type": "code",
   "execution_count": 159,
   "id": "23aab5d7",
   "metadata": {},
   "outputs": [
    {
     "data": {
      "image/png": "[encoded data removed]",
      "text/plain": [
       "<Figure size 1200x500 with 2 Axes>"
      ]
     },
     "metadata": {},
     "output_type": "display_data"
    },
    {
     "data": {
      "image/png": "[encoded data removed]",
      "text/plain": [
       "<Figure size 1200x500 with 2 Axes>"
      ]
     },
     "metadata": {},
     "output_type": "display_data"
    },
    {
     "name": "stdout",
     "output_type": "stream",
     "text": [
      "Regressão Logística  -> KS: 0.045 @ cutoff 0.480\n",
      "LightGBM -> KS: 0.045 @ cutoff 0.161\n"
     ]
    }
   ],
   "source": [
    "def diagnostico_modelo(y_true, y_pred_proba, nome_modelo=\"Modelo\"):\n",
    "    df = pd.DataFrame({\"y\": y_true, \"score\": y_pred_proba})\n",
    "    df = df.sort_values(\"score\", ascending=True)\n",
    "\n",
    "    # Acumulados\n",
    "    df[\"cum_good\"] = (df[\"y\"] == 0).cumsum() / (df[\"y\"] == 0).sum()\n",
    "    df[\"cum_bad\"]  = (df[\"y\"] == 1).cumsum() / (df[\"y\"] == 1).sum()\n",
    "    df[\"ks\"] = abs(df[\"cum_bad\"] - df[\"cum_good\"])\n",
    "\n",
    "    # Ponto de KS máximo\n",
    "    idx_max = df[\"ks\"].idxmax()\n",
    "    ks_val = df.loc[idx_max, \"ks\"]\n",
    "    score_ks = df.loc[idx_max, \"score\"]\n",
    "\n",
    "    # Plot conjunto\n",
    "    fig, axes = plt.subplots(1, 2, figsize=(12,5))\n",
    "\n",
    "    # 1) Histograma por classe\n",
    "    axes[0].hist(df.loc[df[\"y\"]==0, \"score\"], bins=30, alpha=0.6, label=\"Bons (y=0)\")\n",
    "    axes[0].hist(df.loc[df[\"y\"]==1, \"score\"], bins=30, alpha=0.6, label=\"Maus (y=1)\")\n",
    "    axes[0].set_title(f\"Distribuição das probabilidades - {nome_modelo}\")\n",
    "    axes[0].set_xlabel(\"Probabilidade de Default\")\n",
    "    axes[0].set_ylabel(\"Frequência\")\n",
    "    axes[0].legend()\n",
    "\n",
    "    # 2) Curva KS\n",
    "    axes[1].plot(df[\"score\"], df[\"cum_good\"], label=\"Bons acumulados (y=0)\")\n",
    "    axes[1].plot(df[\"score\"], df[\"cum_bad\"], label=\"Maus acumulados (y=1)\")\n",
    "    axes[1].vlines(x=score_ks, ymin=df.loc[idx_max,\"cum_good\"], ymax=df.loc[idx_max,\"cum_bad\"],\n",
    "                   colors=\"red\", linestyles=\"--\", label=f\"KS={ks_val:.3f}\") #@ cutoff {score_ks:.3f}\")\n",
    "    axes[1].set_title(f\"Curva KS - {nome_modelo}\")\n",
    "    axes[1].set_xlabel(\"Probabilidade de Default\")\n",
    "    axes[1].set_ylabel(\"Proporção acumulada\")\n",
    "    axes[1].legend()\n",
    "\n",
    "    plt.tight_layout()\n",
    "    plt.show()\n",
    "\n",
    "    return ks_val, score_ks\n",
    "\n",
    "# =======================\n",
    "# Rodar diagnóstico\n",
    "# =======================\n",
    "ks_logit, cutoff_logit = diagnostico_modelo(y_test, y_pred_proba_logit, \"Regressão Logística\")\n",
    "ks_lgbm, cutoff_lgbm   = diagnostico_modelo(y_test, y_pred_proba_lgbm, \"LightGBM\")\n",
    "\n",
    "print(f\"Regressão Logística  -> KS: {ks_logit:.3f} @ cutoff {cutoff_logit:.3f}\")\n",
    "print(f\"LightGBM -> KS: {ks_lgbm:.3f} @ cutoff {cutoff_lgbm:.3f}\")\n"
   ]
  },
  {
   "cell_type": "markdown",
   "id": "8b05fb03",
   "metadata": {},
   "source": [
    "A estratégia a ser seguida daqui em diante é de "
   ]
  }
 ],
 "metadata": {
  "kernelspec": {
   "display_name": "venv",
   "language": "python",
   "name": "python3"
  },
  "language_info": {
   "codemirror_mode": {
    "name": "ipython",
    "version": 3
   },
   "file_extension": ".py",
   "mimetype": "text/x-python",
   "name": "python",
   "nbconvert_exporter": "python",
   "pygments_lexer": "ipython3",
   "version": "3.12.10"
  }
 },
 "nbformat": 4,
 "nbformat_minor": 5
}
